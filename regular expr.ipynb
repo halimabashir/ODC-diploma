{
 "cells": [
  {
   "cell_type": "code",
   "execution_count": 91,
   "id": "a35852b0",
   "metadata": {},
   "outputs": [],
   "source": [
    "file = open(\"regular.txt\", \"r\")"
   ]
  },
  {
   "cell_type": "code",
   "execution_count": 92,
   "id": "41475e76",
   "metadata": {},
   "outputs": [],
   "source": [
    "lines = file.readlines()"
   ]
  },
  {
   "cell_type": "code",
   "execution_count": 94,
   "id": "426e1c77",
   "metadata": {},
   "outputs": [
    {
     "name": "stdout",
     "output_type": "stream",
     "text": [
      "['Halima, 01125133476, halimabarawi@gmail.com\\n', 'Sara, 01123168138, sarabarawi741@gmail.com\\n', 'Omar, 01159262260, omarbashir@gmail.com\\n', 'Zainab, 01062013783, zainabbarawi23@gmail.com\\n', 'halima, 01125133476, halimabarawi@gmail.com\\n', 'sara, 01123168138, sarabarawi741@gmail.com\\n', 'omar, 01159262260, omarbashir@gmail.com\\n', 'zainab, 01062013783, zainabbarawi23@gmail.com']\n"
     ]
    }
   ],
   "source": [
    "print(lines)"
   ]
  },
  {
   "cell_type": "code",
   "execution_count": 95,
   "id": "d7c5b595",
   "metadata": {},
   "outputs": [],
   "source": [
    "import re\n"
   ]
  },
  {
   "cell_type": "code",
   "execution_count": 106,
   "id": "d4a5fc7e",
   "metadata": {},
   "outputs": [
    {
     "name": "stdout",
     "output_type": "stream",
     "text": [
      "<re.Match object; span=(8, 19), match='01125133476'>\n",
      "<re.Match object; span=(6, 17), match='01123168138'>\n",
      "<re.Match object; span=(6, 17), match='01159262260'>\n",
      "<re.Match object; span=(8, 19), match='01062013783'>\n",
      "<re.Match object; span=(8, 19), match='01125133476'>\n",
      "<re.Match object; span=(6, 17), match='01123168138'>\n",
      "<re.Match object; span=(6, 17), match='01159262260'>\n",
      "<re.Match object; span=(8, 19), match='01062013783'>\n"
     ]
    }
   ],
   "source": [
    "for line in lines:\n",
    "    line=line.strip()\n",
    "    phone = re.search(\"01\\d\\d\\d\\d\\d\\d\\d\\d\\d\" , line)\n",
    "    print(phone)             "
   ]
  },
  {
   "cell_type": "code",
   "execution_count": 98,
   "id": "97dc5f85",
   "metadata": {},
   "outputs": [
    {
     "name": "stdout",
     "output_type": "stream",
     "text": [
      "Halima, 01125133476, halimabarawi@gmail.com\n",
      "Sara, 01123168138, sarabarawi741@gmail.com\n",
      "Omar, 01159262260, omarbashir@gmail.com\n",
      "Zainab, 01062013783, zainabbarawi23@gmail.com\n",
      "halima, 01125133476, halimabarawi@gmail.com\n",
      "sara, 01123168138, sarabarawi741@gmail.com\n",
      "omar, 01159262260, omarbashir@gmail.com\n",
      "zainab, 01062013783, zainabbarawi23@gmail.com\n"
     ]
    }
   ],
   "source": [
    "for line in lines:\n",
    "    line=line.strip()\n",
    "    if re.search(\"01\\d\\d\\d\\d\\d\\d\\d\\d\\d\",line):\n",
    "        print(line)\n"
   ]
  },
  {
   "cell_type": "code",
   "execution_count": 108,
   "id": "a313a6e3",
   "metadata": {},
   "outputs": [
    {
     "name": "stdout",
     "output_type": "stream",
     "text": [
      "['01125133476']\n",
      "['01123168138']\n",
      "['01159262260']\n",
      "['01062013783']\n",
      "['01125133476']\n",
      "['01123168138']\n",
      "['01159262260']\n",
      "['01062013783']\n"
     ]
    }
   ],
   "source": [
    "for line in lines:\n",
    "    line=line.strip()\n",
    "    phoneNumber = re.findall( \"01\\d\\d\\d\\d\\d\\d\\d\\d\\d\" , line)\n",
    "    print(phoneNumber) "
   ]
  },
  {
   "cell_type": "code",
   "execution_count": 107,
   "id": "7feee7b7",
   "metadata": {},
   "outputs": [
    {
     "name": "stdout",
     "output_type": "stream",
     "text": [
      "['halimabarawi@gmail.com']\n",
      "['sarabarawi741@gmail.com']\n",
      "['omarbashir@gmail.com']\n",
      "['zainabbarawi23@gmail.com']\n",
      "['halimabarawi@gmail.com']\n",
      "['sarabarawi741@gmail.com']\n",
      "['omarbashir@gmail.com']\n",
      "['zainabbarawi23@gmail.com']\n"
     ]
    }
   ],
   "source": [
    "for line in lines:\n",
    "    line=line.strip()\n",
    "    email = re.findall(\"[a-zA-Z0-9]*@[A-Za-z]*.com\", line)\n",
    "    print(email)"
   ]
  },
  {
   "cell_type": "code",
   "execution_count": 115,
   "id": "1ecae271",
   "metadata": {},
   "outputs": [
    {
     "name": "stdout",
     "output_type": "stream",
     "text": [
      "['Halima']\n",
      "['Sara']\n",
      "['Omar']\n",
      "['Zainab']\n",
      "[]\n",
      "[]\n",
      "[]\n",
      "[]\n"
     ]
    }
   ],
   "source": [
    "for line in lines:\n",
    "    line=line.strip()\n",
    "    name = re.findall('[A-Z][a-z]*', line)\n",
    "    print(name)"
   ]
  },
  {
   "cell_type": "code",
   "execution_count": 100,
   "id": "acad66f9",
   "metadata": {},
   "outputs": [
    {
     "name": "stdout",
     "output_type": "stream",
     "text": [
      "['H', 'a', 'l', 'i', 'm', 'a', ',', ' ', ',', ' ', 'h', 'a', 'l', 'i', 'm', 'a', 'b', 'a', 'r', 'a', 'w', 'i', '@', 'g', 'm', 'a', 'i', 'l', '.', 'c', 'o', 'm']\n",
      "['S', 'a', 'r', 'a', ',', ' ', ',', ' ', 's', 'a', 'r', 'a', 'b', 'a', 'r', 'a', 'w', 'i', '@', 'g', 'm', 'a', 'i', 'l', '.', 'c', 'o', 'm']\n",
      "['O', 'm', 'a', 'r', ',', ' ', ',', ' ', 'o', 'm', 'a', 'r', 'b', 'a', 's', 'h', 'i', 'r', '@', 'g', 'm', 'a', 'i', 'l', '.', 'c', 'o', 'm']\n",
      "['Z', 'a', 'i', 'n', 'a', 'b', ',', ' ', ',', ' ', 'z', 'a', 'i', 'n', 'a', 'b', 'b', 'a', 'r', 'a', 'w', 'i', '@', 'g', 'm', 'a', 'i', 'l', '.', 'c', 'o', 'm']\n",
      "['h', 'a', 'l', 'i', 'm', 'a', ',', ' ', ',', ' ', 'h', 'a', 'l', 'i', 'm', 'a', 'b', 'a', 'r', 'a', 'w', 'i', '@', 'g', 'm', 'a', 'i', 'l', '.', 'c', 'o', 'm']\n",
      "['s', 'a', 'r', 'a', ',', ' ', ',', ' ', 's', 'a', 'r', 'a', 'b', 'a', 'r', 'a', 'w', 'i', '@', 'g', 'm', 'a', 'i', 'l', '.', 'c', 'o', 'm']\n",
      "['o', 'm', 'a', 'r', ',', ' ', ',', ' ', 'o', 'm', 'a', 'r', 'b', 'a', 's', 'h', 'i', 'r', '@', 'g', 'm', 'a', 'i', 'l', '.', 'c', 'o', 'm']\n",
      "['z', 'a', 'i', 'n', 'a', 'b', ',', ' ', ',', ' ', 'z', 'a', 'i', 'n', 'a', 'b', 'b', 'a', 'r', 'a', 'w', 'i', '@', 'g', 'm', 'a', 'i', 'l', '.', 'c', 'o', 'm']\n"
     ]
    }
   ],
   "source": [
    "for line in lines:\n",
    "    line = line.strip()\n",
    "    pp = re.findall(\"\\D\" , line)\n",
    "    print(pp)"
   ]
  },
  {
   "cell_type": "code",
   "execution_count": 105,
   "id": "f6c1b7a1",
   "metadata": {},
   "outputs": [
    {
     "name": "stdout",
     "output_type": "stream",
     "text": [
      "['H']\n",
      "['S']\n",
      "['O']\n",
      "['Z']\n",
      "[]\n",
      "[]\n",
      "[]\n",
      "[]\n"
     ]
    }
   ],
   "source": [
    "for line in lines:\n",
    "    p = re.findall(\"[A-Z]\", line)\n",
    "    print(p)"
   ]
  },
  {
   "cell_type": "code",
   "execution_count": 104,
   "id": "15476ccf",
   "metadata": {},
   "outputs": [
    {
     "name": "stdout",
     "output_type": "stream",
     "text": [
      "['Halima, 01125133476, halimabarawi', 'gmail.com\\n']\n",
      "['Sara, 01123168138, sarabarawi741', 'gmail.com\\n']\n",
      "['Omar, 01159262260, omarbashir', 'gmail.com\\n']\n",
      "['Zainab, 01062013783, zainabbarawi23', 'gmail.com\\n']\n",
      "['halima, 01125133476, halimabarawi', 'gmail.com\\n']\n",
      "['sara, 01123168138, sarabarawi741', 'gmail.com\\n']\n",
      "['omar, 01159262260, omarbashir', 'gmail.com\\n']\n",
      "['zainab, 01062013783, zainabbarawi23', 'gmail.com']\n"
     ]
    }
   ],
   "source": [
    "for line in lines:\n",
    "    sp = re.split(\"@\", line)\n",
    "    print(sp)"
   ]
  },
  {
   "cell_type": "code",
   "execution_count": null,
   "id": "80492be8",
   "metadata": {},
   "outputs": [],
   "source": []
  }
 ],
 "metadata": {
  "kernelspec": {
   "display_name": "Python 3 (ipykernel)",
   "language": "python",
   "name": "python3"
  },
  "language_info": {
   "codemirror_mode": {
    "name": "ipython",
    "version": 3
   },
   "file_extension": ".py",
   "mimetype": "text/x-python",
   "name": "python",
   "nbconvert_exporter": "python",
   "pygments_lexer": "ipython3",
   "version": "3.9.12"
  }
 },
 "nbformat": 4,
 "nbformat_minor": 5
}
